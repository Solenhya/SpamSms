{
 "cells": [
  {
   "cell_type": "code",
   "execution_count": null,
   "metadata": {},
   "outputs": [],
   "source": [
    "import SKLearnModels\n",
    "from sklearn.model_selection import train_test_split\n",
    "from sklearn.metrics import classification_report\n",
    "import pandas as pd\n",
    "\n"
   ]
  },
  {
   "cell_type": "code",
   "execution_count": null,
   "metadata": {},
   "outputs": [],
   "source": [
    "def GenerateListModel():\n",
    "    retour = []\n",
    "    ##TODO\n",
    "    return retour"
   ]
  },
  {
   "cell_type": "code",
   "execution_count": null,
   "metadata": {},
   "outputs": [],
   "source": [
    "randomState = 42\n",
    "\n",
    "firstDF = pd.read_csv(\"BD1.txt\",sep=\"\\t\",names=[\"spam\",\"text\"])\n",
    "X1 = firstDF[\"text\"]\n",
    "y1 = firstDF[\"spam\"]\n",
    "X1_train, X1_test, y1_train, y1_test = train_test_split(X1,y1 , test_size=0.2, random_state=randomState)\n",
    "\n",
    "secondDF = pd.read_csv(\"BD1.txt\",sep=\"\\t\",names=[\"spam\",\"text\"])\n",
    "X2 = secondDF[\"text\"]\n",
    "y2 = secondDF[\"spam\"]\n",
    "X2_train, X2_test, y2_train, y2_test = train_test_split(X2,y2 , test_size=0.2, random_state=randomState)\n",
    "\n",
    "modelsToTest = GenerateListModel\n",
    "modelsTest = []\n",
    "\n",
    "for model in modelsToTest:\n",
    "    print(str(model))\n",
    "    print(\"Test sur la premiere base de donnée\")\n",
    "    print(classification_report(y1_test,model.Predict(X1_test)))\n",
    "\n",
    "    print(\"Test sur la deuxieme base de donnée\")\n",
    "    print(classification_report())\n",
    "    modelsTest.append(classification_report(y1_test,model.Predict(X1_test),output_dict=True))\n"
   ]
  }
 ],
 "metadata": {
  "kernelspec": {
   "display_name": "Env",
   "language": "python",
   "name": "python3"
  },
  "language_info": {
   "name": "python",
   "version": "3.13.0"
  }
 },
 "nbformat": 4,
 "nbformat_minor": 2
}
