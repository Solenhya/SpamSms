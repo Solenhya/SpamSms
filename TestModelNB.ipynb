{
 "cells": [
  {
   "cell_type": "code",
   "execution_count": null,
   "metadata": {},
   "outputs": [],
   "source": [
    "import SKLearnModels\n",
    "from sklearn.model_selection import train_test_split\n",
    "import pandas as pd\n",
    "\n",
    "firstDF = pd.read_csv(\"BD1.txt\",sep=\"\\t\",names=[\"spam\",\"text\"])\n",
    "X1 = firstDF[\"text\"]\n",
    "y1 = firstDF[\"spam\"]\n",
    "\n",
    "X1_train, X1_test, y1_train, y1_test = train_test_split(X1,y1 , test_size=0.2, random_state=42)\n",
    "\n",
    "modelsToTest = []\n",
    "\n",
    "modelsToTest.append(SKLearnModels)\n",
    "\n",
    "\n"
   ]
  }
 ],
 "metadata": {
  "kernelspec": {
   "display_name": "Env",
   "language": "python",
   "name": "python3"
  },
  "language_info": {
   "name": "python",
   "version": "3.13.0"
  }
 },
 "nbformat": 4,
 "nbformat_minor": 2
}
