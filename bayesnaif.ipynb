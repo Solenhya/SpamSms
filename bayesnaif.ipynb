{
 "cells": [
  {
   "cell_type": "code",
   "execution_count": 1,
   "metadata": {},
   "outputs": [],
   "source": [
    "import pandas as pd"
   ]
  },
  {
   "cell_type": "code",
   "execution_count": 2,
   "metadata": {},
   "outputs": [],
   "source": [
    "df = pd.read_csv(\n",
    "    \"SMSSpamCollection.txt\", delimiter=\"\\t\", header=None, names=[\"spam\", \"text\"]\n",
    ")\n"
   ]
  },
  {
   "cell_type": "code",
   "execution_count": 68,
   "metadata": {},
   "outputs": [],
   "source": [
    "sizeData = len(df.index)\n",
    "trainSize = int(0.5*sizeData)\n",
    "trainDF = df.sample(trainSize)\n",
    "testDF = df.drop(trainDF.index)\n"
   ]
  },
  {
   "cell_type": "code",
   "execution_count": 44,
   "metadata": {},
   "outputs": [
    {
     "name": "stderr",
     "output_type": "stream",
     "text": [
      "C:\\Users\\Candidat\\AppData\\Local\\Temp\\ipykernel_15600\\1955262459.py:2: SettingWithCopyWarning: \n",
      "A value is trying to be set on a copy of a slice from a DataFrame.\n",
      "Try using .loc[row_indexer,col_indexer] = value instead\n",
      "\n",
      "See the caveats in the documentation: https://pandas.pydata.org/pandas-docs/stable/user_guide/indexing.html#returning-a-view-versus-a-copy\n",
      "  trainDFSpam[\"text\"]=trainDFSpam[\"text\"].str.lower()\n",
      "C:\\Users\\Candidat\\AppData\\Local\\Temp\\ipykernel_15600\\1955262459.py:6: SettingWithCopyWarning: \n",
      "A value is trying to be set on a copy of a slice from a DataFrame.\n",
      "Try using .loc[row_indexer,col_indexer] = value instead\n",
      "\n",
      "See the caveats in the documentation: https://pandas.pydata.org/pandas-docs/stable/user_guide/indexing.html#returning-a-view-versus-a-copy\n",
      "  trainDFHam[\"text\"]=trainDFHam[\"text\"].str.lower()\n"
     ]
    }
   ],
   "source": [
    "trainDFSpam = trainDF[trainDF[\"spam\"]==\"spam\"]\n",
    "trainDFSpam[\"text\"]=trainDFSpam[\"text\"].str.lower()\n",
    "dfSplitSpam = trainDFSpam.text.str.split(expand=True).stack().value_counts().to_frame()\n",
    "\n",
    "trainDFHam = trainDF[trainDF[\"spam\"]==\"ham\"]\n",
    "trainDFHam[\"text\"]=trainDFHam[\"text\"].str.lower()\n",
    "dfSplitHam = trainDFHam.text.str.split(expand=True).stack().value_counts().to_frame()\n",
    "\n",
    "total = dfSplitSpam.join(dfSplitHam,lsuffix='_spam', rsuffix='_ham')\n",
    "total.fillna(0.001,inplace=True)\n",
    "spamTotal=total[\"count_spam\"].sum()\n",
    "hamTotal = total[\"count_ham\"].sum()\n",
    "total[\"vraisemblance\"]=(total[\"count_spam\"]/spamTotal)/(total[\"count_ham\"]/hamTotal)\n",
    "\n",
    "spamProbality = spamTotal/hamTotal"
   ]
  },
  {
   "cell_type": "code",
   "execution_count": 69,
   "metadata": {},
   "outputs": [],
   "source": [
    "def TestPhrase(phraseList,spamProba=1):\n",
    "    for word in phraseList:\n",
    "        vraisemblance = total[\"vraisemblance\"].get(word,\"NotFound\")\n",
    "        if vraisemblance!=\"NotFound\":\n",
    "            spamProba*=vraisemblance\n",
    "    return(spamProba)\n",
    "TestPhrase([\"hello\",\"call\",\"to\",\"win\",\"your\",\"prize\"])\n",
    "TestPhrase([\"hello\",\"call\",\"me\",\"i\",\"miss\",\"you\"])\n",
    "\n",
    "testDF[\"text\"]=testDF[\"text\"].str.split()\n"
   ]
  },
  {
   "cell_type": "code",
   "execution_count": 70,
   "metadata": {},
   "outputs": [],
   "source": [
    "testDF[\"result\"]=testDF[\"text\"].apply(TestPhrase,spamProba=0.5)\n",
    "testDF[\"Finalresult\"]=['spam' if x > 1 else 'ham' for x in testDF['result']]"
   ]
  }
 ],
 "metadata": {
  "kernelspec": {
   "display_name": "Env",
   "language": "python",
   "name": "python3"
  },
  "language_info": {
   "codemirror_mode": {
    "name": "ipython",
    "version": 3
   },
   "file_extension": ".py",
   "mimetype": "text/x-python",
   "name": "python",
   "nbconvert_exporter": "python",
   "pygments_lexer": "ipython3",
   "version": "3.13.0"
  }
 },
 "nbformat": 4,
 "nbformat_minor": 2
}
