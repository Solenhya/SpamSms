{
 "cells": [
  {
   "cell_type": "code",
   "execution_count": 1,
   "metadata": {},
   "outputs": [],
   "source": [
    "import pandas as pd"
   ]
  },
  {
   "cell_type": "code",
   "execution_count": 2,
   "metadata": {},
   "outputs": [],
   "source": [
    "df = pd.read_csv(\n",
    "    \"SMSSpamCollection.txt\", delimiter=\"\\t\", header=None, names=[\"spam\", \"text\"]\n",
    ")\n"
   ]
  },
  {
   "cell_type": "code",
   "execution_count": 83,
   "metadata": {},
   "outputs": [],
   "source": [
    "sizeData = len(df.index)\n",
    "trainSize = int(0.5*sizeData)\n",
    "trainDF = df.sample(trainSize)\n",
    "testDF = df.drop(trainDF.index)\n"
   ]
  },
  {
   "cell_type": "code",
   "execution_count": 84,
   "metadata": {},
   "outputs": [
    {
     "name": "stderr",
     "output_type": "stream",
     "text": [
      "C:\\Users\\Candidat\\AppData\\Local\\Temp\\ipykernel_15600\\3630862678.py:2: SettingWithCopyWarning: \n",
      "A value is trying to be set on a copy of a slice from a DataFrame.\n",
      "Try using .loc[row_indexer,col_indexer] = value instead\n",
      "\n",
      "See the caveats in the documentation: https://pandas.pydata.org/pandas-docs/stable/user_guide/indexing.html#returning-a-view-versus-a-copy\n",
      "  trainDFSpam[\"text\"]=trainDFSpam[\"text\"].str.lower()\n",
      "C:\\Users\\Candidat\\AppData\\Local\\Temp\\ipykernel_15600\\3630862678.py:6: SettingWithCopyWarning: \n",
      "A value is trying to be set on a copy of a slice from a DataFrame.\n",
      "Try using .loc[row_indexer,col_indexer] = value instead\n",
      "\n",
      "See the caveats in the documentation: https://pandas.pydata.org/pandas-docs/stable/user_guide/indexing.html#returning-a-view-versus-a-copy\n",
      "  trainDFHam[\"text\"]=trainDFHam[\"text\"].str.lower()\n"
     ]
    }
   ],
   "source": [
    "trainDFSpam = trainDF[trainDF[\"spam\"]==\"spam\"]\n",
    "trainDFSpam[\"text\"]=trainDFSpam[\"text\"].str.lower()\n",
    "dfSplitSpam = trainDFSpam.text.str.split(expand=True).stack().value_counts().to_frame()\n",
    "\n",
    "trainDFHam = trainDF[trainDF[\"spam\"]==\"ham\"]\n",
    "trainDFHam[\"text\"]=trainDFHam[\"text\"].str.lower()\n",
    "dfSplitHam = trainDFHam.text.str.split(expand=True).stack().value_counts().to_frame()\n",
    "\n",
    "total = dfSplitSpam.join(dfSplitHam,lsuffix='_spam', rsuffix='_ham')\n",
    "total.fillna(0.001,inplace=True)\n",
    "spamTotal=total[\"count_spam\"].sum()\n",
    "hamTotal = total[\"count_ham\"].sum()\n",
    "total[\"vraisemblance\"]=(total[\"count_spam\"]/spamTotal)/(total[\"count_ham\"]/hamTotal)\n",
    "\n",
    "spamProbality = spamTotal/hamTotal"
   ]
  },
  {
   "cell_type": "code",
   "execution_count": 87,
   "metadata": {},
   "outputs": [
    {
     "name": "stdout",
     "output_type": "stream",
     "text": [
      "608093.1851883662\n",
      "0.00024645426884846715\n",
      "3.919916687086737\n"
     ]
    }
   ],
   "source": [
    "def TestPhraseList(phraseList,spamProba=1):\n",
    "    for word in phraseList:\n",
    "        vraisemblance = total[\"vraisemblance\"].get(word,\"NotFound\")\n",
    "        if vraisemblance!=\"NotFound\":\n",
    "            spamProba*=vraisemblance\n",
    "    return(spamProba)\n",
    "print(TestPhraseList([\"hello\",\"call\",\"to\",\"win\",\"your\",\"prize\"]))\n",
    "print(TestPhraseList([\"hello\",\"call\",\"me\",\"i\",\"miss\",\"you\"]))\n",
    "\n",
    "def TestPhrase(phrase:str,spamProba=1):\n",
    "    phraseList=phrase.split()\n",
    "    return TestPhraseList(phraseList,spamProba=spamProba)\n",
    "\n",
    "\n",
    "print(TestPhrase(\"Hi how are you ? I have a wonderful proposition for you ! Gain your wonderful price by clicking on this link\"))\n"
   ]
  },
  {
   "cell_type": "code",
   "execution_count": 88,
   "metadata": {},
   "outputs": [],
   "source": [
    "testDF[\"text\"]=testDF[\"text\"].str.split()"
   ]
  },
  {
   "cell_type": "code",
   "execution_count": 93,
   "metadata": {},
   "outputs": [
    {
     "name": "stdout",
     "output_type": "stream",
     "text": [
      "Exactitude : 0.951543431442929\n",
      "Rappel : 0.9926438771094764\n",
      "Precision : 0.951077943615257\n",
      "F1-Score : 0.9714164725809866\n"
     ]
    }
   ],
   "source": [
    "testDF[\"result\"]=testDF[\"text\"].apply(TestPhraseList,spamProba=0.5)\n",
    "testDF[\"Finalresult\"]=['spam' if x > 1 else 'ham' for x in testDF['result']]\n",
    "wrong = len(testDF[testDF[\"Finalresult\"]!=testDF[\"spam\"]].index)\n",
    "FP = len(testDF[(testDF[\"Finalresult\"]==\"spam\")&(testDF[\"spam\"]==\"ham\")].index)\n",
    "FN = len(testDF[(testDF[\"Finalresult\"]==\"ham\")&(testDF[\"spam\"]==\"spam\")].index)\n",
    "VP = len(testDF[(testDF[\"Finalresult\"]==\"ham\")&(testDF[\"spam\"]==\"ham\")].index)\n",
    "VN = len(testDF[(testDF[\"Finalresult\"]==\"spam\")&(testDF[\"spam\"]==\"spam\")].index)\n",
    "wrong/len(testDF.index)\n",
    "exactitude = (VN+VP)/(VN+FN+FP+VP)\n",
    "print(f\"Exactitude : {exactitude}\")\n",
    "rappel = VP /(VP+FN)\n",
    "print(f\"Rappel : {rappel}\")\n",
    "precision = VP/(VP+FP)\n",
    "print(f\"Precision : {precision}\")\n",
    "F1Score = (2 * precision * rappel) / (precision + rappel)\n",
    "print(f\"F1-Score : {F1Score}\")"
   ]
  }
 ],
 "metadata": {
  "kernelspec": {
   "display_name": "Env",
   "language": "python",
   "name": "python3"
  },
  "language_info": {
   "codemirror_mode": {
    "name": "ipython",
    "version": 3
   },
   "file_extension": ".py",
   "mimetype": "text/x-python",
   "name": "python",
   "nbconvert_exporter": "python",
   "pygments_lexer": "ipython3",
   "version": "3.13.0"
  }
 },
 "nbformat": 4,
 "nbformat_minor": 2
}
