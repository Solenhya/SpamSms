{
 "cells": [
  {
   "cell_type": "code",
   "execution_count": 1,
   "metadata": {},
   "outputs": [],
   "source": [
    "import pandas as pd"
   ]
  },
  {
   "cell_type": "code",
   "execution_count": 2,
   "metadata": {},
   "outputs": [],
   "source": [
    "df = pd.read_csv(\n",
    "    \"../SMSSpamCollection.txt\", delimiter=\"\\t\", header=None, names=[\"spam\", \"text\"]\n",
    ")\n"
   ]
  },
  {
   "cell_type": "code",
   "execution_count": 3,
   "metadata": {},
   "outputs": [
    {
     "data": {
      "text/html": [
       "<div>\n",
       "<style scoped>\n",
       "    .dataframe tbody tr th:only-of-type {\n",
       "        vertical-align: middle;\n",
       "    }\n",
       "\n",
       "    .dataframe tbody tr th {\n",
       "        vertical-align: top;\n",
       "    }\n",
       "\n",
       "    .dataframe thead th {\n",
       "        text-align: right;\n",
       "    }\n",
       "</style>\n",
       "<table border=\"1\" class=\"dataframe\">\n",
       "  <thead>\n",
       "    <tr style=\"text-align: right;\">\n",
       "      <th></th>\n",
       "      <th>spam</th>\n",
       "      <th>text</th>\n",
       "    </tr>\n",
       "  </thead>\n",
       "  <tbody>\n",
       "    <tr>\n",
       "      <th>4797</th>\n",
       "      <td>spam</td>\n",
       "      <td>URGENT This is our 2nd attempt to contact U. Y...</td>\n",
       "    </tr>\n",
       "    <tr>\n",
       "      <th>1350</th>\n",
       "      <td>spam</td>\n",
       "      <td>FREE2DAY sexy St George's Day pic of Jordan!Tx...</td>\n",
       "    </tr>\n",
       "    <tr>\n",
       "      <th>5450</th>\n",
       "      <td>ham</td>\n",
       "      <td>Sac needs to carry on:)</td>\n",
       "    </tr>\n",
       "    <tr>\n",
       "      <th>5512</th>\n",
       "      <td>ham</td>\n",
       "      <td>Just making dinner, you ?</td>\n",
       "    </tr>\n",
       "    <tr>\n",
       "      <th>3683</th>\n",
       "      <td>ham</td>\n",
       "      <td>Hello, hello, hi lou sorry it took so long 2 r...</td>\n",
       "    </tr>\n",
       "    <tr>\n",
       "      <th>...</th>\n",
       "      <td>...</td>\n",
       "      <td>...</td>\n",
       "    </tr>\n",
       "    <tr>\n",
       "      <th>2279</th>\n",
       "      <td>ham</td>\n",
       "      <td>Hmm...Bad news...Hype park plaza $700 studio t...</td>\n",
       "    </tr>\n",
       "    <tr>\n",
       "      <th>4961</th>\n",
       "      <td>ham</td>\n",
       "      <td>I want  &amp;lt;#&amp;gt;  rs da:)do you have it?</td>\n",
       "    </tr>\n",
       "    <tr>\n",
       "      <th>0</th>\n",
       "      <td>ham</td>\n",
       "      <td>Go until jurong point, crazy.. Available only ...</td>\n",
       "    </tr>\n",
       "    <tr>\n",
       "      <th>4477</th>\n",
       "      <td>ham</td>\n",
       "      <td>I'll pick you up at about 5.15pm to go to taun...</td>\n",
       "    </tr>\n",
       "    <tr>\n",
       "      <th>3262</th>\n",
       "      <td>ham</td>\n",
       "      <td>Yup i'm still having coffee wif my frens... My...</td>\n",
       "    </tr>\n",
       "  </tbody>\n",
       "</table>\n",
       "<p>2786 rows × 2 columns</p>\n",
       "</div>"
      ],
      "text/plain": [
       "      spam                                               text\n",
       "4797  spam  URGENT This is our 2nd attempt to contact U. Y...\n",
       "1350  spam  FREE2DAY sexy St George's Day pic of Jordan!Tx...\n",
       "5450   ham                            Sac needs to carry on:)\n",
       "5512   ham                          Just making dinner, you ?\n",
       "3683   ham  Hello, hello, hi lou sorry it took so long 2 r...\n",
       "...    ...                                                ...\n",
       "2279   ham  Hmm...Bad news...Hype park plaza $700 studio t...\n",
       "4961   ham          I want  &lt;#&gt;  rs da:)do you have it?\n",
       "0      ham  Go until jurong point, crazy.. Available only ...\n",
       "4477   ham  I'll pick you up at about 5.15pm to go to taun...\n",
       "3262   ham  Yup i'm still having coffee wif my frens... My...\n",
       "\n",
       "[2786 rows x 2 columns]"
      ]
     },
     "execution_count": 3,
     "metadata": {},
     "output_type": "execute_result"
    }
   ],
   "source": [
    "sizeData = len(df.index)\n",
    "trainSize = int(0.5*sizeData)\n",
    "trainDF = df.sample(trainSize)\n",
    "trainDF"
   ]
  },
  {
   "cell_type": "code",
   "execution_count": 4,
   "metadata": {},
   "outputs": [
    {
     "name": "stderr",
     "output_type": "stream",
     "text": [
      "C:\\Users\\melos\\AppData\\Local\\Temp\\ipykernel_15620\\1955262459.py:2: SettingWithCopyWarning: \n",
      "A value is trying to be set on a copy of a slice from a DataFrame.\n",
      "Try using .loc[row_indexer,col_indexer] = value instead\n",
      "\n",
      "See the caveats in the documentation: https://pandas.pydata.org/pandas-docs/stable/user_guide/indexing.html#returning-a-view-versus-a-copy\n",
      "  trainDFSpam[\"text\"]=trainDFSpam[\"text\"].str.lower()\n",
      "C:\\Users\\melos\\AppData\\Local\\Temp\\ipykernel_15620\\1955262459.py:6: SettingWithCopyWarning: \n",
      "A value is trying to be set on a copy of a slice from a DataFrame.\n",
      "Try using .loc[row_indexer,col_indexer] = value instead\n",
      "\n",
      "See the caveats in the documentation: https://pandas.pydata.org/pandas-docs/stable/user_guide/indexing.html#returning-a-view-versus-a-copy\n",
      "  trainDFHam[\"text\"]=trainDFHam[\"text\"].str.lower()\n"
     ]
    }
   ],
   "source": [
    "trainDFSpam = trainDF[trainDF[\"spam\"]==\"spam\"]\n",
    "trainDFSpam[\"text\"]=trainDFSpam[\"text\"].str.lower()\n",
    "dfSplitSpam = trainDFSpam.text.str.split(expand=True).stack().value_counts().to_frame()\n",
    "\n",
    "trainDFHam = trainDF[trainDF[\"spam\"]==\"ham\"]\n",
    "trainDFHam[\"text\"]=trainDFHam[\"text\"].str.lower()\n",
    "dfSplitHam = trainDFHam.text.str.split(expand=True).stack().value_counts().to_frame()\n",
    "\n",
    "total = dfSplitSpam.join(dfSplitHam,lsuffix='_spam', rsuffix='_ham')\n",
    "total.fillna(0.001,inplace=True)\n",
    "spamTotal=total[\"count_spam\"].sum()\n",
    "hamTotal = total[\"count_ham\"].sum()\n",
    "total[\"vraisemblance\"]=(total[\"count_spam\"]/spamTotal)/(total[\"count_ham\"]/hamTotal)"
   ]
  },
  {
   "cell_type": "code",
   "execution_count": 12,
   "metadata": {},
   "outputs": [
    {
     "name": "stdout",
     "output_type": "stream",
     "text": [
      "1786554.2131971496\n",
      "0.0002516506314095073\n"
     ]
    }
   ],
   "source": [
    "def TestPhrase(phraseList):\n",
    "    baseRatio = 1\n",
    "    for word in phraseList:\n",
    "        vraisemblance = total[\"vraisemblance\"].get(word,\"NotFound\")\n",
    "        if vraisemblance!=\"NotFound\":\n",
    "            baseRatio*=vraisemblance\n",
    "    print(baseRatio)\n",
    "TestPhrase(\"hello call to win your prize\".split())\n",
    "TestPhrase(\"hello call me i miss you\".split())\n",
    "\n"
   ]
  }
 ],
 "metadata": {
  "kernelspec": {
   "display_name": "env",
   "language": "python",
   "name": "python3"
  },
  "language_info": {
   "codemirror_mode": {
    "name": "ipython",
    "version": 3
   },
   "file_extension": ".py",
   "mimetype": "text/x-python",
   "name": "python",
   "nbconvert_exporter": "python",
   "pygments_lexer": "ipython3",
   "version": "3.12.6"
  }
 },
 "nbformat": 4,
 "nbformat_minor": 2
}
