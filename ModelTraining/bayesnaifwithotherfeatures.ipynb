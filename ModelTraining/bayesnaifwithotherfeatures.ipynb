{
 "cells": [
  {
   "cell_type": "code",
   "execution_count": 104,
   "metadata": {},
   "outputs": [],
   "source": [
    "import pandas as pd\n",
    "\n",
    "pathDonnees = \"../DataSetBrut/SMSSpamCollection.txt\"\n",
    "trainProportion = 0.2\n",
    "df = pd.read_csv(\n",
    "    pathDonnees, delimiter=\"\\t\", header=None, names=[\"spam\", \"text\"]\n",
    ")"
   ]
  },
  {
   "cell_type": "code",
   "execution_count": 105,
   "metadata": {},
   "outputs": [],
   "source": [
    "sizeData = len(df.index)\n",
    "trainSize = int(trainProportion * sizeData)\n",
    "trainDF = df.sample(trainSize)\n",
    "testDF = df.drop(trainDF.index)\n"
   ]
  },
  {
   "cell_type": "code",
   "execution_count": 106,
   "metadata": {},
   "outputs": [
    {
     "name": "stderr",
     "output_type": "stream",
     "text": [
      "C:\\Users\\melos\\AppData\\Local\\Temp\\ipykernel_10396\\3306979562.py:2: SettingWithCopyWarning:\n",
      "\n",
      "\n",
      "A value is trying to be set on a copy of a slice from a DataFrame.\n",
      "Try using .loc[row_indexer,col_indexer] = value instead\n",
      "\n",
      "See the caveats in the documentation: https://pandas.pydata.org/pandas-docs/stable/user_guide/indexing.html#returning-a-view-versus-a-copy\n",
      "\n",
      "C:\\Users\\melos\\AppData\\Local\\Temp\\ipykernel_10396\\3306979562.py:8: SettingWithCopyWarning:\n",
      "\n",
      "\n",
      "A value is trying to be set on a copy of a slice from a DataFrame.\n",
      "Try using .loc[row_indexer,col_indexer] = value instead\n",
      "\n",
      "See the caveats in the documentation: https://pandas.pydata.org/pandas-docs/stable/user_guide/indexing.html#returning-a-view-versus-a-copy\n",
      "\n"
     ]
    }
   ],
   "source": [
    "trainDFSpam = trainDF[trainDF[\"spam\"] == \"spam\"]\n",
    "trainDFSpam[\"text\"] = trainDFSpam[\"text\"].str.lower()\n",
    "dfSplitSpam = trainDFSpam.text.str.split(expand=True).stack().value_counts().to_frame()\n",
    "\n",
    "dfSplitSpam.columns = [\"count_spam\"]\n",
    "\n",
    "trainDFHam = trainDF[trainDF[\"spam\"] == \"ham\"]\n",
    "trainDFHam[\"text\"] = trainDFHam[\"text\"].str.lower()\n",
    "dfSplitHam = trainDFHam.text.str.split(expand=True).stack().value_counts().to_frame()\n",
    "\n",
    "dfSplitHam.columns = [\"count_ham\"]\n",
    "\n",
    "total = dfSplitSpam.join(dfSplitHam, lsuffix='_spam', rsuffix='_ham')\n",
    "total.fillna(0.001, inplace=True)\n",
    "\n",
    "spamTotal = total[\"count_spam\"].sum()\n",
    "hamTotal = total[\"count_ham\"].sum()\n",
    "total[\"vraisemblance\"] = (total[\"count_spam\"] / spamTotal) / (total[\"count_ham\"] / hamTotal)\n",
    "\n",
    "trainDF[\"char_length\"] = trainDF[\"text\"].apply(len)\n",
    "testDF[\"char_length\"] = testDF[\"text\"].apply(len)\n",
    "\n",
    "avg_spam_length = trainDFSpam[\"text\"].apply(len).mean()\n",
    "avg_ham_length = trainDFHam[\"text\"].apply(len).mean()\n",
    "\n",
    "char_length_likelihood_spam = avg_spam_length / (avg_spam_length + avg_ham_length)\n",
    "char_length_likelihood_ham = avg_ham_length / (avg_spam_length + avg_ham_length)\n",
    "\n",
    "spamProbability = spamTotal / (spamTotal + hamTotal)"
   ]
  },
  {
   "cell_type": "code",
   "execution_count": 107,
   "metadata": {},
   "outputs": [
    {
     "data": {
      "text/html": [
       "<div>\n",
       "<style scoped>\n",
       "    .dataframe tbody tr th:only-of-type {\n",
       "        vertical-align: middle;\n",
       "    }\n",
       "\n",
       "    .dataframe tbody tr th {\n",
       "        vertical-align: top;\n",
       "    }\n",
       "\n",
       "    .dataframe thead th {\n",
       "        text-align: right;\n",
       "    }\n",
       "</style>\n",
       "<table border=\"1\" class=\"dataframe\">\n",
       "  <thead>\n",
       "    <tr style=\"text-align: right;\">\n",
       "      <th></th>\n",
       "      <th>count_spam</th>\n",
       "      <th>count_ham</th>\n",
       "      <th>vraisemblance</th>\n",
       "    </tr>\n",
       "  </thead>\n",
       "  <tbody>\n",
       "    <tr>\n",
       "      <th>to</th>\n",
       "      <td>117</td>\n",
       "      <td>347.000</td>\n",
       "      <td>0.805144</td>\n",
       "    </tr>\n",
       "    <tr>\n",
       "      <th>a</th>\n",
       "      <td>70</td>\n",
       "      <td>233.000</td>\n",
       "      <td>0.717397</td>\n",
       "    </tr>\n",
       "    <tr>\n",
       "      <th>call</th>\n",
       "      <td>68</td>\n",
       "      <td>49.000</td>\n",
       "      <td>3.313828</td>\n",
       "    </tr>\n",
       "    <tr>\n",
       "      <th>your</th>\n",
       "      <td>48</td>\n",
       "      <td>86.000</td>\n",
       "      <td>1.332785</td>\n",
       "    </tr>\n",
       "    <tr>\n",
       "      <th>you</th>\n",
       "      <td>41</td>\n",
       "      <td>334.000</td>\n",
       "      <td>0.293126</td>\n",
       "    </tr>\n",
       "    <tr>\n",
       "      <th>...</th>\n",
       "      <td>...</td>\n",
       "      <td>...</td>\n",
       "      <td>...</td>\n",
       "    </tr>\n",
       "    <tr>\n",
       "      <th>mind.</th>\n",
       "      <td>1</td>\n",
       "      <td>1.000</td>\n",
       "      <td>2.387906</td>\n",
       "    </tr>\n",
       "    <tr>\n",
       "      <th>o2fwd</th>\n",
       "      <td>1</td>\n",
       "      <td>0.001</td>\n",
       "      <td>2387.905666</td>\n",
       "    </tr>\n",
       "    <tr>\n",
       "      <th>18p/txt</th>\n",
       "      <td>1</td>\n",
       "      <td>0.001</td>\n",
       "      <td>2387.905666</td>\n",
       "    </tr>\n",
       "    <tr>\n",
       "      <th>4882</th>\n",
       "      <td>1</td>\n",
       "      <td>0.001</td>\n",
       "      <td>2387.905666</td>\n",
       "    </tr>\n",
       "    <tr>\n",
       "      <th>09064019014</th>\n",
       "      <td>1</td>\n",
       "      <td>0.001</td>\n",
       "      <td>2387.905666</td>\n",
       "    </tr>\n",
       "  </tbody>\n",
       "</table>\n",
       "<p>1363 rows × 3 columns</p>\n",
       "</div>"
      ],
      "text/plain": [
       "             count_spam  count_ham  vraisemblance\n",
       "to                  117    347.000       0.805144\n",
       "a                    70    233.000       0.717397\n",
       "call                 68     49.000       3.313828\n",
       "your                 48     86.000       1.332785\n",
       "you                  41    334.000       0.293126\n",
       "...                 ...        ...            ...\n",
       "mind.                 1      1.000       2.387906\n",
       "o2fwd                 1      0.001    2387.905666\n",
       "18p/txt               1      0.001    2387.905666\n",
       "4882                  1      0.001    2387.905666\n",
       "09064019014           1      0.001    2387.905666\n",
       "\n",
       "[1363 rows x 3 columns]"
      ]
     },
     "execution_count": 107,
     "metadata": {},
     "output_type": "execute_result"
    }
   ],
   "source": [
    "total"
   ]
  },
  {
   "cell_type": "code",
   "execution_count": 108,
   "metadata": {},
   "outputs": [],
   "source": [
    "df = total.sort_values(\"vraisemblance\", ascending=False).head(40)"
   ]
  },
  {
   "cell_type": "code",
   "execution_count": 109,
   "metadata": {},
   "outputs": [
    {
     "data": {
      "application/vnd.plotly.v1+json": {
       "config": {
        "plotlyServerURL": "https://plot.ly"
       },
       "data": [
        {
         "alignmentgroup": "True",
         "box": {
          "visible": false
         },
         "hovertemplate": "vraisemblance=%{y}<extra></extra>",
         "legendgroup": "",
         "marker": {
          "color": "#636efa"
         },
         "name": "",
         "offsetgroup": "",
         "orientation": "v",
         "scalegroup": "True",
         "showlegend": false,
         "type": "violin",
         "x0": " ",
         "xaxis": "x",
         "y": [
          0.805143985450813,
          0.7173965520927423,
          3.313828271532773,
          1.3327845579078457,
          0.2931261446596223,
          0.8105734830395193,
          7.814963998641459,
          1.5919371108343714,
          0.48450259894959125,
          0.7192486946540834,
          0.994960694271482,
          2.7290350471446363,
          0.3148886592859196,
          1.6153479506995827,
          0.5604268400386307,
          0.9153638387297635,
          0.2886479376787596,
          0.2235486155639755,
          0.6921465699279875,
          6.481458236968511,
          2.149115099626401,
          1.2324674406459648,
          4.477323124221669,
          0.55717798879203,
          0.42524347481192104,
          0.2928563552950022,
          0.7959685554171856,
          7.16371699875467,
          2.204220615001437,
          0.5618601567650722,
          0.3054297945205479,
          1.0102677818756585,
          0.4264117261163494,
          0.28769947786163336,
          1.7056469044653977,
          2.653228518057285,
          0.8954646248443338,
          0.8596460398505604,
          0.12868952692373659,
          1.5919371108343712,
          2.3879056662515565,
          1.1237203135301443,
          0.6162337203229824,
          0.3081168601614912,
          0.2418132320254741,
          0.9096783490482121,
          0.4341646665911922,
          0.9832552743388764,
          2.7858899439601497,
          0.33430679327521795,
          5.571779887920299,
          0.16715339663760898,
          8.357669831880449,
          7.16371699875467,
          0.1609824044663971,
          0.7959685554171856,
          0.17688190120381903,
          4.775811332503114,
          7.16371699875467,
          7.16371699875467,
          0.2106975587869021,
          3.581858499377335,
          1.0854116664779805,
          0.7959685554171856,
          5.969764165628892,
          0.4775811332503114,
          5.969764165628892,
          0.13883172478206723,
          3.9798427770859277,
          9.551622665006226,
          0.6822587617861591,
          9.551622665006226,
          4.775811332503113,
          3.1838742216687423,
          0.7959685554171856,
          3.1838742216687423,
          0.8683293331823844,
          4.775811332503113,
          4.775811332503113,
          0.13084414609597572,
          0.9551622665006227,
          9.551622665006226,
          1.061291407222914,
          0.14694804100009579,
          0.021038816442744992,
          1.1939528331257783,
          0.20764397097839624,
          0.7959685554171856,
          0.7959685554171856,
          0.10854116664779803,
          0.7163716998754671,
          7.16371699875467,
          0.08049120223319856,
          1.0233881426792386,
          0.8954646248443338,
          0.11370979363102651,
          0.4477323124221669,
          7.16371699875467,
          7.16371699875467,
          7.16371699875467,
          7.16371699875467,
          1.7909292496886675,
          0.5116940713396193,
          0.25584703566980965,
          0.24702472409498863,
          1.4327433997509342,
          0.11939528331257784,
          3.581858499377335,
          1.0233881426792386,
          0.052674389696725527,
          0.34112938089307954,
          0.24702472409498863,
          0.13024939997735765,
          7.16371699875467,
          7.16371699875467,
          3.581858499377335,
          3.581858499377335,
          3.581858499377335,
          3.581858499377335,
          7.16371699875467,
          7.16371699875467,
          1.7909292496886675,
          0.8954646248443338,
          0.34112938089307954,
          0.8954646248443338,
          0.3256234999433941,
          7.16371699875467,
          7.16371699875467,
          4.775811332503113,
          4.775811332503113,
          0.5969764165628891,
          0.7959685554171856,
          0.12907598195954362,
          0.1646831493966591,
          4.775811332503113,
          0.11648320323178325,
          4.775811332503113,
          4.775811332503113,
          2.3879056662515565,
          2.3879056662515565,
          0.7959685554171856,
          4.775811332503113,
          0.7959685554171856,
          0.5969764165628891,
          0.10382198548919812,
          0.530645703611457,
          0.29848820828144457,
          0.09364335946084537,
          1.5919371108343712,
          0.14472155553039737,
          0.3673701025002395,
          4.775811332503113,
          2.3879056662515565,
          4.775811332503113,
          4.775811332503113,
          2.3879056662515565,
          2.3879056662515565,
          0.530645703611457,
          4.775811332503113,
          0.3979842777085928,
          0.7959685554171856,
          2.3879056662515565,
          4.775811332503113,
          1.5919371108343712,
          4.775811332503113,
          4.775811332503113,
          0.7959685554171856,
          0.1989921388542964,
          2.3879056662515565,
          0.10854116664779805,
          4.775811332503113,
          2.3879056662515565,
          0.2653228518057285,
          4.775811332503113,
          0.9551622665006227,
          0.2809300783825361,
          1.1939528331257783,
          0.6822587617861591,
          0.17688190120381903,
          0.6822587617861591,
          0.29848820828144457,
          1.1939528331257783,
          1.5919371108343712,
          0.9551622665006227,
          0.34112938089307954,
          0.07023251959563402,
          2.3879056662515565,
          0.2653228518057285,
          2.3879056662515565,
          0.5969764165628891,
          2.3879056662515565,
          0.18368505125011975,
          2.3879056662515565,
          1.1939528331257783,
          0.7959685554171856,
          0.7959685554171856,
          1.1939528331257783,
          2.3879056662515565,
          0.031011761899370868,
          2.3879056662515565,
          2.3879056662515565,
          2.3879056662515565,
          2.3879056662515565,
          0.5969764165628891,
          0.7959685554171856,
          2.3879056662515565,
          0.29848820828144457,
          2.3879056662515565,
          1.1939528331257783,
          1.1939528331257783,
          0.4775811332503114,
          0.7959685554171856,
          2.3879056662515565,
          0.4775811332503114,
          0.10382198548919812,
          2.3879056662515565,
          0.7959685554171856,
          0.3979842777085928,
          0.14046503919126804,
          0.3979842777085928,
          1.1939528331257783,
          1.1939528331257783,
          2.3879056662515565,
          1.1939528331257783,
          2.3879056662515565,
          0.14046503919126804,
          0.1989921388542964,
          2.3879056662515565,
          1.1939528331257783,
          0.13266142590286426,
          1.1939528331257783,
          0.7959685554171856,
          2.3879056662515565,
          2.3879056662515565,
          0.7959685554171856,
          2.3879056662515565,
          2.3879056662515565,
          2.3879056662515565,
          0.7959685554171856,
          0.3979842777085928,
          0.11370979363102651,
          1.1939528331257783,
          0.11939528331257784,
          1.1939528331257783,
          0.2653228518057285,
          0.17056469044653977,
          2.3879056662515565,
          0.5969764165628891,
          0.04775811332503114,
          0.07959685554171857,
          2.3879056662515565,
          0.14924410414072228,
          0.4775811332503114,
          2.3879056662515565,
          0.29848820828144457,
          0.4775811332503114,
          1.1939528331257783,
          0.5969764165628891,
          1.1939528331257783,
          0.7959685554171856,
          0.2653228518057285,
          0.7959685554171856,
          2.3879056662515565,
          0.4775811332503114,
          2.3879056662515565,
          0.3979842777085928,
          2.3879056662515565,
          0.14924410414072228,
          0.14924410414072228,
          0.04264117261163494,
          0.7959685554171856,
          0.4775811332503114,
          0.4775811332503114,
          2.3879056662515565,
          0.3979842777085928,
          0.14924410414072228,
          0.17056469044653977,
          2.3879056662515565,
          1.1939528331257783,
          0.2387905666251557,
          2.3879056662515565,
          0.34112938089307954,
          2.3879056662515565,
          2.3879056662515565,
          1.1939528331257783,
          0.7959685554171856,
          1.1939528331257783,
          0.3979842777085928,
          2.3879056662515565,
          0.15919371108343713,
          2.3879056662515565,
          2.3879056662515565,
          2.3879056662515565,
          2.3879056662515565,
          0.5969764165628891,
          1.1939528331257783,
          0.34112938089307954,
          0.2170823332955961,
          0.3979842777085928,
          0.08844095060190951,
          0.2387905666251557,
          0.2653228518057285,
          0.4775811332503114,
          2.3879056662515565,
          0.14046503919126804,
          0.1989921388542964,
          0.7959685554171856,
          2.3879056662515565,
          0.7959685554171856,
          0.2653228518057285,
          0.7959685554171856,
          0.14924410414072228,
          0.7959685554171856,
          2.3879056662515565,
          0.5969764165628891,
          0.7959685554171856,
          2.3879056662515565,
          0.2653228518057285,
          1.1939528331257783,
          0.3979842777085928,
          1.1939528331257783,
          0.5969764165628891,
          0.34112938089307954,
          0.10854116664779805,
          2.3879056662515565,
          0.7959685554171856,
          0.0555326899128269,
          0.7959685554171856,
          0.7959685554171856,
          2.3879056662515565,
          2.3879056662515565,
          0.09184252562505987,
          2.3879056662515565,
          0.048732768699011365,
          2.3879056662515565,
          0.29848820828144457,
          2.3879056662515565,
          1.1939528331257783,
          2.3879056662515565,
          2.3879056662515565,
          0.09184252562505987,
          0.29848820828144457,
          0.29848820828144457,
          2.3879056662515565,
          2.3879056662515565,
          0.3979842777085928,
          0.18368505125011975,
          0.1989921388542964,
          0.3979842777085928,
          0.34112938089307954,
          0.08234157469832955,
          0.4775811332503114,
          1.1939528331257783,
          0.3979842777085928,
          0.5969764165628891,
          1.1939528331257783,
          0.0994960694271482,
          0.058241601615891626,
          1.1939528331257783,
          0.1989921388542964,
          0.11370979363102651,
          2.3879056662515565,
          1.1939528331257783,
          0.17056469044653977,
          1.1939528331257783,
          2.3879056662515565,
          2.3879056662515565,
          2.3879056662515565,
          0.7959685554171856,
          0.5969764165628891,
          2.3879056662515565,
          2.3879056662515565,
          0.7959685554171856,
          1.1939528331257783,
          1.1939528331257783,
          2.3879056662515565,
          0.7959685554171856,
          2.3879056662515565,
          2.3879056662515565,
          2.3879056662515565,
          1.1939528331257783,
          1.1939528331257783,
          2.3879056662515565,
          2.3879056662515565,
          2.3879056662515565,
          0.34112938089307954,
          1.1939528331257783,
          1.1939528331257783,
          1.1939528331257783,
          2.3879056662515565,
          0.7959685554171856,
          0.5969764165628891,
          0.5969764165628891,
          1.1939528331257783,
          2.3879056662515565,
          0.29848820828144457,
          2.3879056662515565
         ],
         "y0": " ",
         "yaxis": "y"
        }
       ],
       "layout": {
        "legend": {
         "tracegroupgap": 0
        },
        "margin": {
         "t": 60
        },
        "template": {
         "data": {
          "bar": [
           {
            "error_x": {
             "color": "#2a3f5f"
            },
            "error_y": {
             "color": "#2a3f5f"
            },
            "marker": {
             "line": {
              "color": "#E5ECF6",
              "width": 0.5
             },
             "pattern": {
              "fillmode": "overlay",
              "size": 10,
              "solidity": 0.2
             }
            },
            "type": "bar"
           }
          ],
          "barpolar": [
           {
            "marker": {
             "line": {
              "color": "#E5ECF6",
              "width": 0.5
             },
             "pattern": {
              "fillmode": "overlay",
              "size": 10,
              "solidity": 0.2
             }
            },
            "type": "barpolar"
           }
          ],
          "carpet": [
           {
            "aaxis": {
             "endlinecolor": "#2a3f5f",
             "gridcolor": "white",
             "linecolor": "white",
             "minorgridcolor": "white",
             "startlinecolor": "#2a3f5f"
            },
            "baxis": {
             "endlinecolor": "#2a3f5f",
             "gridcolor": "white",
             "linecolor": "white",
             "minorgridcolor": "white",
             "startlinecolor": "#2a3f5f"
            },
            "type": "carpet"
           }
          ],
          "choropleth": [
           {
            "colorbar": {
             "outlinewidth": 0,
             "ticks": ""
            },
            "type": "choropleth"
           }
          ],
          "contour": [
           {
            "colorbar": {
             "outlinewidth": 0,
             "ticks": ""
            },
            "colorscale": [
             [
              0,
              "#0d0887"
             ],
             [
              0.1111111111111111,
              "#46039f"
             ],
             [
              0.2222222222222222,
              "#7201a8"
             ],
             [
              0.3333333333333333,
              "#9c179e"
             ],
             [
              0.4444444444444444,
              "#bd3786"
             ],
             [
              0.5555555555555556,
              "#d8576b"
             ],
             [
              0.6666666666666666,
              "#ed7953"
             ],
             [
              0.7777777777777778,
              "#fb9f3a"
             ],
             [
              0.8888888888888888,
              "#fdca26"
             ],
             [
              1,
              "#f0f921"
             ]
            ],
            "type": "contour"
           }
          ],
          "contourcarpet": [
           {
            "colorbar": {
             "outlinewidth": 0,
             "ticks": ""
            },
            "type": "contourcarpet"
           }
          ],
          "heatmap": [
           {
            "colorbar": {
             "outlinewidth": 0,
             "ticks": ""
            },
            "colorscale": [
             [
              0,
              "#0d0887"
             ],
             [
              0.1111111111111111,
              "#46039f"
             ],
             [
              0.2222222222222222,
              "#7201a8"
             ],
             [
              0.3333333333333333,
              "#9c179e"
             ],
             [
              0.4444444444444444,
              "#bd3786"
             ],
             [
              0.5555555555555556,
              "#d8576b"
             ],
             [
              0.6666666666666666,
              "#ed7953"
             ],
             [
              0.7777777777777778,
              "#fb9f3a"
             ],
             [
              0.8888888888888888,
              "#fdca26"
             ],
             [
              1,
              "#f0f921"
             ]
            ],
            "type": "heatmap"
           }
          ],
          "heatmapgl": [
           {
            "colorbar": {
             "outlinewidth": 0,
             "ticks": ""
            },
            "colorscale": [
             [
              0,
              "#0d0887"
             ],
             [
              0.1111111111111111,
              "#46039f"
             ],
             [
              0.2222222222222222,
              "#7201a8"
             ],
             [
              0.3333333333333333,
              "#9c179e"
             ],
             [
              0.4444444444444444,
              "#bd3786"
             ],
             [
              0.5555555555555556,
              "#d8576b"
             ],
             [
              0.6666666666666666,
              "#ed7953"
             ],
             [
              0.7777777777777778,
              "#fb9f3a"
             ],
             [
              0.8888888888888888,
              "#fdca26"
             ],
             [
              1,
              "#f0f921"
             ]
            ],
            "type": "heatmapgl"
           }
          ],
          "histogram": [
           {
            "marker": {
             "pattern": {
              "fillmode": "overlay",
              "size": 10,
              "solidity": 0.2
             }
            },
            "type": "histogram"
           }
          ],
          "histogram2d": [
           {
            "colorbar": {
             "outlinewidth": 0,
             "ticks": ""
            },
            "colorscale": [
             [
              0,
              "#0d0887"
             ],
             [
              0.1111111111111111,
              "#46039f"
             ],
             [
              0.2222222222222222,
              "#7201a8"
             ],
             [
              0.3333333333333333,
              "#9c179e"
             ],
             [
              0.4444444444444444,
              "#bd3786"
             ],
             [
              0.5555555555555556,
              "#d8576b"
             ],
             [
              0.6666666666666666,
              "#ed7953"
             ],
             [
              0.7777777777777778,
              "#fb9f3a"
             ],
             [
              0.8888888888888888,
              "#fdca26"
             ],
             [
              1,
              "#f0f921"
             ]
            ],
            "type": "histogram2d"
           }
          ],
          "histogram2dcontour": [
           {
            "colorbar": {
             "outlinewidth": 0,
             "ticks": ""
            },
            "colorscale": [
             [
              0,
              "#0d0887"
             ],
             [
              0.1111111111111111,
              "#46039f"
             ],
             [
              0.2222222222222222,
              "#7201a8"
             ],
             [
              0.3333333333333333,
              "#9c179e"
             ],
             [
              0.4444444444444444,
              "#bd3786"
             ],
             [
              0.5555555555555556,
              "#d8576b"
             ],
             [
              0.6666666666666666,
              "#ed7953"
             ],
             [
              0.7777777777777778,
              "#fb9f3a"
             ],
             [
              0.8888888888888888,
              "#fdca26"
             ],
             [
              1,
              "#f0f921"
             ]
            ],
            "type": "histogram2dcontour"
           }
          ],
          "mesh3d": [
           {
            "colorbar": {
             "outlinewidth": 0,
             "ticks": ""
            },
            "type": "mesh3d"
           }
          ],
          "parcoords": [
           {
            "line": {
             "colorbar": {
              "outlinewidth": 0,
              "ticks": ""
             }
            },
            "type": "parcoords"
           }
          ],
          "pie": [
           {
            "automargin": true,
            "type": "pie"
           }
          ],
          "scatter": [
           {
            "fillpattern": {
             "fillmode": "overlay",
             "size": 10,
             "solidity": 0.2
            },
            "type": "scatter"
           }
          ],
          "scatter3d": [
           {
            "line": {
             "colorbar": {
              "outlinewidth": 0,
              "ticks": ""
             }
            },
            "marker": {
             "colorbar": {
              "outlinewidth": 0,
              "ticks": ""
             }
            },
            "type": "scatter3d"
           }
          ],
          "scattercarpet": [
           {
            "marker": {
             "colorbar": {
              "outlinewidth": 0,
              "ticks": ""
             }
            },
            "type": "scattercarpet"
           }
          ],
          "scattergeo": [
           {
            "marker": {
             "colorbar": {
              "outlinewidth": 0,
              "ticks": ""
             }
            },
            "type": "scattergeo"
           }
          ],
          "scattergl": [
           {
            "marker": {
             "colorbar": {
              "outlinewidth": 0,
              "ticks": ""
             }
            },
            "type": "scattergl"
           }
          ],
          "scattermapbox": [
           {
            "marker": {
             "colorbar": {
              "outlinewidth": 0,
              "ticks": ""
             }
            },
            "type": "scattermapbox"
           }
          ],
          "scatterpolar": [
           {
            "marker": {
             "colorbar": {
              "outlinewidth": 0,
              "ticks": ""
             }
            },
            "type": "scatterpolar"
           }
          ],
          "scatterpolargl": [
           {
            "marker": {
             "colorbar": {
              "outlinewidth": 0,
              "ticks": ""
             }
            },
            "type": "scatterpolargl"
           }
          ],
          "scatterternary": [
           {
            "marker": {
             "colorbar": {
              "outlinewidth": 0,
              "ticks": ""
             }
            },
            "type": "scatterternary"
           }
          ],
          "surface": [
           {
            "colorbar": {
             "outlinewidth": 0,
             "ticks": ""
            },
            "colorscale": [
             [
              0,
              "#0d0887"
             ],
             [
              0.1111111111111111,
              "#46039f"
             ],
             [
              0.2222222222222222,
              "#7201a8"
             ],
             [
              0.3333333333333333,
              "#9c179e"
             ],
             [
              0.4444444444444444,
              "#bd3786"
             ],
             [
              0.5555555555555556,
              "#d8576b"
             ],
             [
              0.6666666666666666,
              "#ed7953"
             ],
             [
              0.7777777777777778,
              "#fb9f3a"
             ],
             [
              0.8888888888888888,
              "#fdca26"
             ],
             [
              1,
              "#f0f921"
             ]
            ],
            "type": "surface"
           }
          ],
          "table": [
           {
            "cells": {
             "fill": {
              "color": "#EBF0F8"
             },
             "line": {
              "color": "white"
             }
            },
            "header": {
             "fill": {
              "color": "#C8D4E3"
             },
             "line": {
              "color": "white"
             }
            },
            "type": "table"
           }
          ]
         },
         "layout": {
          "annotationdefaults": {
           "arrowcolor": "#2a3f5f",
           "arrowhead": 0,
           "arrowwidth": 1
          },
          "autotypenumbers": "strict",
          "coloraxis": {
           "colorbar": {
            "outlinewidth": 0,
            "ticks": ""
           }
          },
          "colorscale": {
           "diverging": [
            [
             0,
             "#8e0152"
            ],
            [
             0.1,
             "#c51b7d"
            ],
            [
             0.2,
             "#de77ae"
            ],
            [
             0.3,
             "#f1b6da"
            ],
            [
             0.4,
             "#fde0ef"
            ],
            [
             0.5,
             "#f7f7f7"
            ],
            [
             0.6,
             "#e6f5d0"
            ],
            [
             0.7,
             "#b8e186"
            ],
            [
             0.8,
             "#7fbc41"
            ],
            [
             0.9,
             "#4d9221"
            ],
            [
             1,
             "#276419"
            ]
           ],
           "sequential": [
            [
             0,
             "#0d0887"
            ],
            [
             0.1111111111111111,
             "#46039f"
            ],
            [
             0.2222222222222222,
             "#7201a8"
            ],
            [
             0.3333333333333333,
             "#9c179e"
            ],
            [
             0.4444444444444444,
             "#bd3786"
            ],
            [
             0.5555555555555556,
             "#d8576b"
            ],
            [
             0.6666666666666666,
             "#ed7953"
            ],
            [
             0.7777777777777778,
             "#fb9f3a"
            ],
            [
             0.8888888888888888,
             "#fdca26"
            ],
            [
             1,
             "#f0f921"
            ]
           ],
           "sequentialminus": [
            [
             0,
             "#0d0887"
            ],
            [
             0.1111111111111111,
             "#46039f"
            ],
            [
             0.2222222222222222,
             "#7201a8"
            ],
            [
             0.3333333333333333,
             "#9c179e"
            ],
            [
             0.4444444444444444,
             "#bd3786"
            ],
            [
             0.5555555555555556,
             "#d8576b"
            ],
            [
             0.6666666666666666,
             "#ed7953"
            ],
            [
             0.7777777777777778,
             "#fb9f3a"
            ],
            [
             0.8888888888888888,
             "#fdca26"
            ],
            [
             1,
             "#f0f921"
            ]
           ]
          },
          "colorway": [
           "#636efa",
           "#EF553B",
           "#00cc96",
           "#ab63fa",
           "#FFA15A",
           "#19d3f3",
           "#FF6692",
           "#B6E880",
           "#FF97FF",
           "#FECB52"
          ],
          "font": {
           "color": "#2a3f5f"
          },
          "geo": {
           "bgcolor": "white",
           "lakecolor": "white",
           "landcolor": "#E5ECF6",
           "showlakes": true,
           "showland": true,
           "subunitcolor": "white"
          },
          "hoverlabel": {
           "align": "left"
          },
          "hovermode": "closest",
          "mapbox": {
           "style": "light"
          },
          "paper_bgcolor": "white",
          "plot_bgcolor": "#E5ECF6",
          "polar": {
           "angularaxis": {
            "gridcolor": "white",
            "linecolor": "white",
            "ticks": ""
           },
           "bgcolor": "#E5ECF6",
           "radialaxis": {
            "gridcolor": "white",
            "linecolor": "white",
            "ticks": ""
           }
          },
          "scene": {
           "xaxis": {
            "backgroundcolor": "#E5ECF6",
            "gridcolor": "white",
            "gridwidth": 2,
            "linecolor": "white",
            "showbackground": true,
            "ticks": "",
            "zerolinecolor": "white"
           },
           "yaxis": {
            "backgroundcolor": "#E5ECF6",
            "gridcolor": "white",
            "gridwidth": 2,
            "linecolor": "white",
            "showbackground": true,
            "ticks": "",
            "zerolinecolor": "white"
           },
           "zaxis": {
            "backgroundcolor": "#E5ECF6",
            "gridcolor": "white",
            "gridwidth": 2,
            "linecolor": "white",
            "showbackground": true,
            "ticks": "",
            "zerolinecolor": "white"
           }
          },
          "shapedefaults": {
           "line": {
            "color": "#2a3f5f"
           }
          },
          "ternary": {
           "aaxis": {
            "gridcolor": "white",
            "linecolor": "white",
            "ticks": ""
           },
           "baxis": {
            "gridcolor": "white",
            "linecolor": "white",
            "ticks": ""
           },
           "bgcolor": "#E5ECF6",
           "caxis": {
            "gridcolor": "white",
            "linecolor": "white",
            "ticks": ""
           }
          },
          "title": {
           "x": 0.05
          },
          "xaxis": {
           "automargin": true,
           "gridcolor": "white",
           "linecolor": "white",
           "ticks": "",
           "title": {
            "standoff": 15
           },
           "zerolinecolor": "white",
           "zerolinewidth": 2
          },
          "yaxis": {
           "automargin": true,
           "gridcolor": "white",
           "linecolor": "white",
           "ticks": "",
           "title": {
            "standoff": 15
           },
           "zerolinecolor": "white",
           "zerolinewidth": 2
          }
         }
        },
        "violinmode": "group",
        "xaxis": {
         "anchor": "y",
         "domain": [
          0,
          1
         ]
        },
        "yaxis": {
         "anchor": "x",
         "domain": [
          0,
          1
         ],
         "title": {
          "text": "vraisemblance"
         }
        }
       }
      }
     },
     "metadata": {},
     "output_type": "display_data"
    }
   ],
   "source": [
    "from matplotlib.axis import YAxis\n",
    "import plotly.express as px\n",
    "import numpy as np\n",
    "violin = total[(total[\"vraisemblance\"] > 0) & (total[\"vraisemblance\"] < 10)]\n",
    "px.violin(violin, y=\"vraisemblance\")"
   ]
  },
  {
   "cell_type": "code",
   "execution_count": 110,
   "metadata": {},
   "outputs": [
    {
     "name": "stdout",
     "output_type": "stream",
     "text": [
      "99.67824489207344\n"
     ]
    }
   ],
   "source": [
    "def TestPhraseList(phraseList, char_length, spamProba=1):\n",
    "    for word in phraseList:\n",
    "        vraisemblance = total[\"vraisemblance\"].get(word, \"NotFound\")\n",
    "        if vraisemblance != \"NotFound\":\n",
    "            spamProba *= vraisemblance\n",
    "    if char_length > avg_spam_length:\n",
    "        spamProba *= char_length_likelihood_spam\n",
    "    else:\n",
    "        spamProba *= char_length_likelihood_ham\n",
    "    return spamProba\n",
    "\n",
    "def TestPhrase(phrase: str, spamProba=1):\n",
    "    phraseList = phrase.split()\n",
    "    char_length = len(phrase)\n",
    "    return TestPhraseList(phraseList, char_length, spamProba=spamProba)\n",
    "\n",
    "print(TestPhrase(\"Hi how are you? I have a wonderful proposition for you! Gain your wonderful prize by clicking on this link\"))\n"
   ]
  },
  {
   "cell_type": "code",
   "execution_count": 111,
   "metadata": {},
   "outputs": [
    {
     "name": "stdout",
     "output_type": "stream",
     "text": [
      "Exactitude : 0.8568864961866308\n",
      "Rappel : 0.9834237492465341\n",
      "Rappel négatif : 0.4885964912280702\n",
      "Précision : 0.8484139365574623\n",
      "Précision négative : 0.9101307189542484\n",
      "F1-Score : 0.9109436069235064\n",
      "F1-Score négatif : 0.6358447488584476\n"
     ]
    }
   ],
   "source": [
    "testDF[\"text\"] = testDF[\"text\"].str.split()\n",
    "\n",
    "def calculate_metrics():\n",
    "    testDF[\"Finalresult\"] = testDF[\"text\"].apply(lambda x: \"spam\" if TestPhrase(\" \".join(x)) > spamProbability else \"ham\")\n",
    "    wrong = len(testDF[testDF[\"Finalresult\"] != testDF[\"spam\"].index])\n",
    "    FP = len(testDF[(testDF[\"Finalresult\"] == \"spam\") & (testDF[\"spam\"] == \"ham\")].index)\n",
    "    FN = len(testDF[(testDF[\"Finalresult\"] == \"ham\") & (testDF[\"spam\"] == \"spam\")].index)\n",
    "    VP = len(testDF[(testDF[\"Finalresult\"] == \"ham\") & (testDF[\"spam\"] == \"ham\")].index)\n",
    "    VN = len(testDF[(testDF[\"Finalresult\"] == \"spam\") & (testDF[\"spam\"] == \"spam\")].index)\n",
    "    exactitude = (VN + VP) / (VN + FN + FP + VP)\n",
    "    print(f\"Exactitude : {exactitude}\")\n",
    "    rappel = VP / (VP + FN)\n",
    "    print(f\"Rappel : {rappel}\")\n",
    "    print(f\"Rappel négatif : {VN / (VN + FP)}\")\n",
    "    precision = VP / (VP + FP)\n",
    "    print(f\"Précision : {precision}\")\n",
    "    print(f\"Précision négative : {VN / (VN + FN)}\")\n",
    "    F1Score = (2 * precision * rappel) / (precision + rappel)\n",
    "    print(f\"F1-Score : {F1Score}\")\n",
    "    print(f\"F1-Score négatif : {(2 * VN / (VN + FN) * VN / (VN + FP)) / (VN / (VN + FN) + VN / (VN + FP))}\")\n",
    "\n",
    "calculate_metrics()"
   ]
  },
  {
   "cell_type": "markdown",
   "metadata": {},
   "source": [
    "## Validation croisée"
   ]
  },
  {
   "cell_type": "code",
   "execution_count": 112,
   "metadata": {},
   "outputs": [
    {
     "name": "stderr",
     "output_type": "stream",
     "text": [
      "C:\\Users\\melos\\AppData\\Local\\Temp\\ipykernel_10396\\3351523356.py:12: SettingWithCopyWarning:\n",
      "\n",
      "\n",
      "A value is trying to be set on a copy of a slice from a DataFrame.\n",
      "Try using .loc[row_indexer,col_indexer] = value instead\n",
      "\n",
      "See the caveats in the documentation: https://pandas.pydata.org/pandas-docs/stable/user_guide/indexing.html#returning-a-view-versus-a-copy\n",
      "\n",
      "C:\\Users\\melos\\AppData\\Local\\Temp\\ipykernel_10396\\3351523356.py:17: SettingWithCopyWarning:\n",
      "\n",
      "\n",
      "A value is trying to be set on a copy of a slice from a DataFrame.\n",
      "Try using .loc[row_indexer,col_indexer] = value instead\n",
      "\n",
      "See the caveats in the documentation: https://pandas.pydata.org/pandas-docs/stable/user_guide/indexing.html#returning-a-view-versus-a-copy\n",
      "\n",
      "C:\\Users\\melos\\AppData\\Local\\Temp\\ipykernel_10396\\3351523356.py:28: SettingWithCopyWarning:\n",
      "\n",
      "\n",
      "A value is trying to be set on a copy of a slice from a DataFrame.\n",
      "Try using .loc[row_indexer,col_indexer] = value instead\n",
      "\n",
      "See the caveats in the documentation: https://pandas.pydata.org/pandas-docs/stable/user_guide/indexing.html#returning-a-view-versus-a-copy\n",
      "\n",
      "C:\\Users\\melos\\AppData\\Local\\Temp\\ipykernel_10396\\3351523356.py:29: SettingWithCopyWarning:\n",
      "\n",
      "\n",
      "A value is trying to be set on a copy of a slice from a DataFrame.\n",
      "Try using .loc[row_indexer,col_indexer] = value instead\n",
      "\n",
      "See the caveats in the documentation: https://pandas.pydata.org/pandas-docs/stable/user_guide/indexing.html#returning-a-view-versus-a-copy\n",
      "\n",
      "C:\\Users\\melos\\AppData\\Local\\Temp\\ipykernel_10396\\3351523356.py:55: SettingWithCopyWarning:\n",
      "\n",
      "\n",
      "A value is trying to be set on a copy of a slice from a DataFrame.\n",
      "Try using .loc[row_indexer,col_indexer] = value instead\n",
      "\n",
      "See the caveats in the documentation: https://pandas.pydata.org/pandas-docs/stable/user_guide/indexing.html#returning-a-view-versus-a-copy\n",
      "\n",
      "C:\\Users\\melos\\AppData\\Local\\Temp\\ipykernel_10396\\3351523356.py:58: SettingWithCopyWarning:\n",
      "\n",
      "\n",
      "A value is trying to be set on a copy of a slice from a DataFrame.\n",
      "Try using .loc[row_indexer,col_indexer] = value instead\n",
      "\n",
      "See the caveats in the documentation: https://pandas.pydata.org/pandas-docs/stable/user_guide/indexing.html#returning-a-view-versus-a-copy\n",
      "\n",
      "C:\\Users\\melos\\AppData\\Local\\Temp\\ipykernel_10396\\3351523356.py:12: SettingWithCopyWarning:\n",
      "\n",
      "\n",
      "A value is trying to be set on a copy of a slice from a DataFrame.\n",
      "Try using .loc[row_indexer,col_indexer] = value instead\n",
      "\n",
      "See the caveats in the documentation: https://pandas.pydata.org/pandas-docs/stable/user_guide/indexing.html#returning-a-view-versus-a-copy\n",
      "\n",
      "C:\\Users\\melos\\AppData\\Local\\Temp\\ipykernel_10396\\3351523356.py:17: SettingWithCopyWarning:\n",
      "\n",
      "\n",
      "A value is trying to be set on a copy of a slice from a DataFrame.\n",
      "Try using .loc[row_indexer,col_indexer] = value instead\n",
      "\n",
      "See the caveats in the documentation: https://pandas.pydata.org/pandas-docs/stable/user_guide/indexing.html#returning-a-view-versus-a-copy\n",
      "\n",
      "C:\\Users\\melos\\AppData\\Local\\Temp\\ipykernel_10396\\3351523356.py:28: SettingWithCopyWarning:\n",
      "\n",
      "\n",
      "A value is trying to be set on a copy of a slice from a DataFrame.\n",
      "Try using .loc[row_indexer,col_indexer] = value instead\n",
      "\n",
      "See the caveats in the documentation: https://pandas.pydata.org/pandas-docs/stable/user_guide/indexing.html#returning-a-view-versus-a-copy\n",
      "\n",
      "C:\\Users\\melos\\AppData\\Local\\Temp\\ipykernel_10396\\3351523356.py:29: SettingWithCopyWarning:\n",
      "\n",
      "\n",
      "A value is trying to be set on a copy of a slice from a DataFrame.\n",
      "Try using .loc[row_indexer,col_indexer] = value instead\n",
      "\n",
      "See the caveats in the documentation: https://pandas.pydata.org/pandas-docs/stable/user_guide/indexing.html#returning-a-view-versus-a-copy\n",
      "\n",
      "C:\\Users\\melos\\AppData\\Local\\Temp\\ipykernel_10396\\3351523356.py:55: SettingWithCopyWarning:\n",
      "\n",
      "\n",
      "A value is trying to be set on a copy of a slice from a DataFrame.\n",
      "Try using .loc[row_indexer,col_indexer] = value instead\n",
      "\n",
      "See the caveats in the documentation: https://pandas.pydata.org/pandas-docs/stable/user_guide/indexing.html#returning-a-view-versus-a-copy\n",
      "\n",
      "C:\\Users\\melos\\AppData\\Local\\Temp\\ipykernel_10396\\3351523356.py:58: SettingWithCopyWarning:\n",
      "\n",
      "\n",
      "A value is trying to be set on a copy of a slice from a DataFrame.\n",
      "Try using .loc[row_indexer,col_indexer] = value instead\n",
      "\n",
      "See the caveats in the documentation: https://pandas.pydata.org/pandas-docs/stable/user_guide/indexing.html#returning-a-view-versus-a-copy\n",
      "\n",
      "C:\\Users\\melos\\AppData\\Local\\Temp\\ipykernel_10396\\3351523356.py:12: SettingWithCopyWarning:\n",
      "\n",
      "\n",
      "A value is trying to be set on a copy of a slice from a DataFrame.\n",
      "Try using .loc[row_indexer,col_indexer] = value instead\n",
      "\n",
      "See the caveats in the documentation: https://pandas.pydata.org/pandas-docs/stable/user_guide/indexing.html#returning-a-view-versus-a-copy\n",
      "\n",
      "C:\\Users\\melos\\AppData\\Local\\Temp\\ipykernel_10396\\3351523356.py:17: SettingWithCopyWarning:\n",
      "\n",
      "\n",
      "A value is trying to be set on a copy of a slice from a DataFrame.\n",
      "Try using .loc[row_indexer,col_indexer] = value instead\n",
      "\n",
      "See the caveats in the documentation: https://pandas.pydata.org/pandas-docs/stable/user_guide/indexing.html#returning-a-view-versus-a-copy\n",
      "\n",
      "C:\\Users\\melos\\AppData\\Local\\Temp\\ipykernel_10396\\3351523356.py:28: SettingWithCopyWarning:\n",
      "\n",
      "\n",
      "A value is trying to be set on a copy of a slice from a DataFrame.\n",
      "Try using .loc[row_indexer,col_indexer] = value instead\n",
      "\n",
      "See the caveats in the documentation: https://pandas.pydata.org/pandas-docs/stable/user_guide/indexing.html#returning-a-view-versus-a-copy\n",
      "\n",
      "C:\\Users\\melos\\AppData\\Local\\Temp\\ipykernel_10396\\3351523356.py:29: SettingWithCopyWarning:\n",
      "\n",
      "\n",
      "A value is trying to be set on a copy of a slice from a DataFrame.\n",
      "Try using .loc[row_indexer,col_indexer] = value instead\n",
      "\n",
      "See the caveats in the documentation: https://pandas.pydata.org/pandas-docs/stable/user_guide/indexing.html#returning-a-view-versus-a-copy\n",
      "\n",
      "C:\\Users\\melos\\AppData\\Local\\Temp\\ipykernel_10396\\3351523356.py:55: SettingWithCopyWarning:\n",
      "\n",
      "\n",
      "A value is trying to be set on a copy of a slice from a DataFrame.\n",
      "Try using .loc[row_indexer,col_indexer] = value instead\n",
      "\n",
      "See the caveats in the documentation: https://pandas.pydata.org/pandas-docs/stable/user_guide/indexing.html#returning-a-view-versus-a-copy\n",
      "\n",
      "C:\\Users\\melos\\AppData\\Local\\Temp\\ipykernel_10396\\3351523356.py:58: SettingWithCopyWarning:\n",
      "\n",
      "\n",
      "A value is trying to be set on a copy of a slice from a DataFrame.\n",
      "Try using .loc[row_indexer,col_indexer] = value instead\n",
      "\n",
      "See the caveats in the documentation: https://pandas.pydata.org/pandas-docs/stable/user_guide/indexing.html#returning-a-view-versus-a-copy\n",
      "\n",
      "C:\\Users\\melos\\AppData\\Local\\Temp\\ipykernel_10396\\3351523356.py:12: SettingWithCopyWarning:\n",
      "\n",
      "\n",
      "A value is trying to be set on a copy of a slice from a DataFrame.\n",
      "Try using .loc[row_indexer,col_indexer] = value instead\n",
      "\n",
      "See the caveats in the documentation: https://pandas.pydata.org/pandas-docs/stable/user_guide/indexing.html#returning-a-view-versus-a-copy\n",
      "\n",
      "C:\\Users\\melos\\AppData\\Local\\Temp\\ipykernel_10396\\3351523356.py:17: SettingWithCopyWarning:\n",
      "\n",
      "\n",
      "A value is trying to be set on a copy of a slice from a DataFrame.\n",
      "Try using .loc[row_indexer,col_indexer] = value instead\n",
      "\n",
      "See the caveats in the documentation: https://pandas.pydata.org/pandas-docs/stable/user_guide/indexing.html#returning-a-view-versus-a-copy\n",
      "\n",
      "C:\\Users\\melos\\AppData\\Local\\Temp\\ipykernel_10396\\3351523356.py:28: SettingWithCopyWarning:\n",
      "\n",
      "\n",
      "A value is trying to be set on a copy of a slice from a DataFrame.\n",
      "Try using .loc[row_indexer,col_indexer] = value instead\n",
      "\n",
      "See the caveats in the documentation: https://pandas.pydata.org/pandas-docs/stable/user_guide/indexing.html#returning-a-view-versus-a-copy\n",
      "\n",
      "C:\\Users\\melos\\AppData\\Local\\Temp\\ipykernel_10396\\3351523356.py:29: SettingWithCopyWarning:\n",
      "\n",
      "\n",
      "A value is trying to be set on a copy of a slice from a DataFrame.\n",
      "Try using .loc[row_indexer,col_indexer] = value instead\n",
      "\n",
      "See the caveats in the documentation: https://pandas.pydata.org/pandas-docs/stable/user_guide/indexing.html#returning-a-view-versus-a-copy\n",
      "\n",
      "C:\\Users\\melos\\AppData\\Local\\Temp\\ipykernel_10396\\3351523356.py:55: SettingWithCopyWarning:\n",
      "\n",
      "\n",
      "A value is trying to be set on a copy of a slice from a DataFrame.\n",
      "Try using .loc[row_indexer,col_indexer] = value instead\n",
      "\n",
      "See the caveats in the documentation: https://pandas.pydata.org/pandas-docs/stable/user_guide/indexing.html#returning-a-view-versus-a-copy\n",
      "\n",
      "C:\\Users\\melos\\AppData\\Local\\Temp\\ipykernel_10396\\3351523356.py:58: SettingWithCopyWarning:\n",
      "\n",
      "\n",
      "A value is trying to be set on a copy of a slice from a DataFrame.\n",
      "Try using .loc[row_indexer,col_indexer] = value instead\n",
      "\n",
      "See the caveats in the documentation: https://pandas.pydata.org/pandas-docs/stable/user_guide/indexing.html#returning-a-view-versus-a-copy\n",
      "\n",
      "C:\\Users\\melos\\AppData\\Local\\Temp\\ipykernel_10396\\3351523356.py:12: SettingWithCopyWarning:\n",
      "\n",
      "\n",
      "A value is trying to be set on a copy of a slice from a DataFrame.\n",
      "Try using .loc[row_indexer,col_indexer] = value instead\n",
      "\n",
      "See the caveats in the documentation: https://pandas.pydata.org/pandas-docs/stable/user_guide/indexing.html#returning-a-view-versus-a-copy\n",
      "\n",
      "C:\\Users\\melos\\AppData\\Local\\Temp\\ipykernel_10396\\3351523356.py:17: SettingWithCopyWarning:\n",
      "\n",
      "\n",
      "A value is trying to be set on a copy of a slice from a DataFrame.\n",
      "Try using .loc[row_indexer,col_indexer] = value instead\n",
      "\n",
      "See the caveats in the documentation: https://pandas.pydata.org/pandas-docs/stable/user_guide/indexing.html#returning-a-view-versus-a-copy\n",
      "\n",
      "C:\\Users\\melos\\AppData\\Local\\Temp\\ipykernel_10396\\3351523356.py:28: SettingWithCopyWarning:\n",
      "\n",
      "\n",
      "A value is trying to be set on a copy of a slice from a DataFrame.\n",
      "Try using .loc[row_indexer,col_indexer] = value instead\n",
      "\n",
      "See the caveats in the documentation: https://pandas.pydata.org/pandas-docs/stable/user_guide/indexing.html#returning-a-view-versus-a-copy\n",
      "\n",
      "C:\\Users\\melos\\AppData\\Local\\Temp\\ipykernel_10396\\3351523356.py:29: SettingWithCopyWarning:\n",
      "\n",
      "\n",
      "A value is trying to be set on a copy of a slice from a DataFrame.\n",
      "Try using .loc[row_indexer,col_indexer] = value instead\n",
      "\n",
      "See the caveats in the documentation: https://pandas.pydata.org/pandas-docs/stable/user_guide/indexing.html#returning-a-view-versus-a-copy\n",
      "\n",
      "C:\\Users\\melos\\AppData\\Local\\Temp\\ipykernel_10396\\3351523356.py:55: SettingWithCopyWarning:\n",
      "\n",
      "\n",
      "A value is trying to be set on a copy of a slice from a DataFrame.\n",
      "Try using .loc[row_indexer,col_indexer] = value instead\n",
      "\n",
      "See the caveats in the documentation: https://pandas.pydata.org/pandas-docs/stable/user_guide/indexing.html#returning-a-view-versus-a-copy\n",
      "\n"
     ]
    },
    {
     "name": "stdout",
     "output_type": "stream",
     "text": [
      "Moyenne des indicateurs :\n",
      "Exactitude           0.877420\n",
      "Rappel               0.989153\n",
      "Précision            0.868018\n",
      "F1-Score             0.924613\n",
      "rappel_negatif       0.523438\n",
      "F1Score_negatif      0.671377\n",
      "precision_negatif    0.937791\n",
      "dtype: float64\n"
     ]
    },
    {
     "name": "stderr",
     "output_type": "stream",
     "text": [
      "C:\\Users\\melos\\AppData\\Local\\Temp\\ipykernel_10396\\3351523356.py:58: SettingWithCopyWarning:\n",
      "\n",
      "\n",
      "A value is trying to be set on a copy of a slice from a DataFrame.\n",
      "Try using .loc[row_indexer,col_indexer] = value instead\n",
      "\n",
      "See the caveats in the documentation: https://pandas.pydata.org/pandas-docs/stable/user_guide/indexing.html#returning-a-view-versus-a-copy\n",
      "\n"
     ]
    }
   ],
   "source": [
    "import pandas as pd\n",
    "from sklearn.model_selection import KFold\n",
    "\n",
    "pathDonnees = \"../DataSetBrut/SMSSpamCollection.txt\"\n",
    "trainProportion = 0.2\n",
    "df = pd.read_csv(\n",
    "    pathDonnees, delimiter=\"\\t\", header=None, names=[\"spam\", \"text\"]\n",
    ")\n",
    "\n",
    "def train_and_evaluate(trainDF, testDF):\n",
    "    trainDFSpam = trainDF[trainDF[\"spam\"] == \"spam\"]\n",
    "    trainDFSpam[\"text\"] = trainDFSpam[\"text\"].str.lower()\n",
    "    dfSplitSpam = trainDFSpam.text.str.split(expand=True).stack().value_counts().to_frame()\n",
    "    dfSplitSpam.columns = [\"count_spam\"]\n",
    "\n",
    "    trainDFHam = trainDF[trainDF[\"spam\"] == \"ham\"]\n",
    "    trainDFHam[\"text\"] = trainDFHam[\"text\"].str.lower()\n",
    "    dfSplitHam = trainDFHam.text.str.split(expand=True).stack().value_counts().to_frame()\n",
    "    dfSplitHam.columns = [\"count_ham\"]\n",
    "\n",
    "    total = dfSplitSpam.join(dfSplitHam, lsuffix='_spam', rsuffix='_ham')\n",
    "    total.fillna(0.001, inplace=True)\n",
    "\n",
    "    spamTotal = total[\"count_spam\"].sum()\n",
    "    hamTotal = total[\"count_ham\"].sum()\n",
    "    total[\"vraisemblance\"] = (total[\"count_spam\"] / spamTotal) / (total[\"count_ham\"] / hamTotal)\n",
    "\n",
    "    trainDF[\"char_length\"] = trainDF[\"text\"].apply(len)\n",
    "    testDF[\"char_length\"] = testDF[\"text\"].apply(len)\n",
    "\n",
    "    avg_spam_length = trainDFSpam[\"text\"].apply(len).mean()\n",
    "    avg_ham_length = trainDFHam[\"text\"].apply(len).mean()\n",
    "\n",
    "    char_length_likelihood_spam = avg_spam_length / (avg_spam_length + avg_ham_length)\n",
    "    char_length_likelihood_ham = avg_ham_length / (avg_spam_length + avg_ham_length)\n",
    "\n",
    "    spamProbability = spamTotal / (spamTotal + hamTotal)\n",
    "\n",
    "    def TestPhraseList(phraseList, char_length, spamProba=1):\n",
    "        for word in phraseList:\n",
    "            vraisemblance = total[\"vraisemblance\"].get(word, \"NotFound\")\n",
    "            if vraisemblance != \"NotFound\":\n",
    "                spamProba *= vraisemblance\n",
    "        if char_length > avg_spam_length:\n",
    "            spamProba *= char_length_likelihood_spam\n",
    "        else:\n",
    "            spamProba *= char_length_likelihood_ham\n",
    "        return spamProba\n",
    "\n",
    "    def TestPhrase(phrase: str, spamProba=1):\n",
    "        phraseList = phrase.split()\n",
    "        char_length = len(phrase)\n",
    "        return TestPhraseList(phraseList, char_length, spamProba=spamProba)\n",
    "\n",
    "    testDF[\"text\"] = testDF[\"text\"].str.split()\n",
    "\n",
    "    def calculate_metrics():\n",
    "        testDF[\"Finalresult\"] = testDF[\"text\"].apply(lambda x: \"spam\" if TestPhrase(\" \".join(x)) > spamProbability else \"ham\")\n",
    "        FP = len(testDF[(testDF[\"Finalresult\"] == \"spam\") & (testDF[\"spam\"] == \"ham\")].index)\n",
    "        FN = len(testDF[(testDF[\"Finalresult\"] == \"ham\") & (testDF[\"spam\"] == \"spam\")].index)\n",
    "        VP = len(testDF[(testDF[\"Finalresult\"] == \"ham\") & (testDF[\"spam\"] == \"ham\")].index)\n",
    "        VN = len(testDF[(testDF[\"Finalresult\"] == \"spam\") & (testDF[\"spam\"] == \"spam\")].index)\n",
    "        exactitude = (VN + VP) / (VN + FN + FP + VP)\n",
    "        rappel = VP / (VP + FN)\n",
    "        rappel_negatif = VN / (VN + FP)\n",
    "        precision = VP / (VP + FP)\n",
    "        precision_negatif = VN / (VN + FN)\n",
    "        F1Score = (2 * precision * rappel) / (precision + rappel)\n",
    "        F1Score_negatif = (2 * precision_negatif * rappel_negatif) / (precision_negatif + rappel_negatif)\n",
    "        return exactitude, rappel, precision, F1Score, rappel_negatif, F1Score_negatif, precision_negatif\n",
    "\n",
    "    return calculate_metrics()\n",
    "\n",
    "kf = KFold(n_splits=5)\n",
    "metrics = []\n",
    "\n",
    "for train_index, test_index in kf.split(df):\n",
    "    trainDF = df.iloc[train_index]\n",
    "    testDF = df.iloc[test_index]\n",
    "    metrics.append(train_and_evaluate(trainDF, testDF))\n",
    "\n",
    "average_metrics = pd.DataFrame(metrics, columns=[\"Exactitude\", \"Rappel\", \"Précision\", \"F1-Score\", \"rappel_negatif\", \"F1Score_negatif\", \"precision_negatif\"]).mean()\n",
    "print(\"Moyenne des indicateurs :\")\n",
    "print(average_metrics)"
   ]
  }
 ],
 "metadata": {
  "kernelspec": {
   "display_name": "env",
   "language": "python",
   "name": "python3"
  },
  "language_info": {
   "codemirror_mode": {
    "name": "ipython",
    "version": 3
   },
   "file_extension": ".py",
   "mimetype": "text/x-python",
   "name": "python",
   "nbconvert_exporter": "python",
   "pygments_lexer": "ipython3",
   "version": "3.12.6"
  }
 },
 "nbformat": 4,
 "nbformat_minor": 2
}
