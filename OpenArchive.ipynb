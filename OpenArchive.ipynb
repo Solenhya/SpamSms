{
 "cells": [
  {
   "cell_type": "code",
   "execution_count": 99,
   "metadata": {},
   "outputs": [],
   "source": [
    "import pandas as pd\n",
    "import os"
   ]
  },
  {
   "cell_type": "code",
   "execution_count": 119,
   "metadata": {},
   "outputs": [],
   "source": [
    "df = pd.read_csv(r\"SpamSecond\\User1.csv\",sep=\",\",header=None)\n",
    "df2 = pd.read_csv(r\"SpamSecond\\User2.csv\",sep=\",\",header=None)"
   ]
  },
  {
   "cell_type": "code",
   "execution_count": 158,
   "metadata": {},
   "outputs": [],
   "source": [
    "def CleanDataFrame(dataFrame):\n",
    "    colToConcat = dataFrame.iloc[:,7:]\n",
    "    dataFrame[7] = colToConcat.apply(lambda row: ','.join(row.dropna().astype(str)), axis=1)\n",
    "    dataFrame.drop(dataFrame.columns[8:],inplace=True,axis=1)\n",
    "    dataFrame.drop(dataFrame.columns[0:6],inplace=True,axis=1)\n",
    "    dataFrame = dataFrame.rename(columns={6:\"Etiquette\",7:\"Message\"})\n",
    "    return dataFrame"
   ]
  },
  {
   "cell_type": "code",
   "execution_count": 148,
   "metadata": {},
   "outputs": [],
   "source": [
    "def CreateConcat():\n",
    "    files = os.listdir(\"SpamSecond/\")\n",
    "    print(files)\n",
    "    dataFrame = pd.read_csv(\"SpamSecond/\"+files[0],sep=\",\",header=None)\n",
    "    dataFrame = CleanDataFrame(dataFrame)\n",
    "    size = len(dataFrame.index)\n",
    "    print(\"First DF size =\"+str(size))\n",
    "    for i in range(1,len(files)):\n",
    "        path = \"SpamSecond/\"+files[i]\n",
    "        dfAdd = pd.read_csv(path,sep=\",\",header=None)\n",
    "        dfAdd = CleanDataFrame(dfAdd)\n",
    "        ajoutSize = len(dfAdd.index)\n",
    "        print(\"Ajout de \"+ajoutSize.__str__()+\" Elements\")\n",
    "        dataFrame = pd.concat([dataFrame,dfAdd],axis=0,ignore_index=True)\n",
    "    tailleTotal = len(dataFrame.index)\n",
    "    print(\"Element total : \"+tailleTotal.__str__())\n",
    "    return dataFrame"
   ]
  },
  {
   "cell_type": "code",
   "execution_count": 159,
   "metadata": {},
   "outputs": [
    {
     "name": "stdout",
     "output_type": "stream",
     "text": [
      "['USER 10.csv', 'USER 11.csv', 'USER 12.csv', 'USER 13.csv', 'USER 14.csv', 'USER 15.csv', 'USER 16.csv', 'USER 17.csv', 'USER 18.csv', 'USER 19.csv', 'USER 20.csv', 'USER 8.csv', 'USER 9.csv', 'USER1.csv', 'USER2.csv', 'USER3.csv', 'USER4.csv', 'USER5.csv', 'USER6.csv', 'USER7.csv']\n",
      "First DF size =633\n",
      "Ajout de 243 Elements\n",
      "Ajout de 387 Elements\n",
      "Ajout de 117 Elements\n",
      "Ajout de 227 Elements\n",
      "Ajout de 605 Elements\n",
      "Ajout de 1082 Elements\n",
      "Ajout de 180 Elements\n",
      "Ajout de 167 Elements\n",
      "Ajout de 626 Elements\n",
      "Ajout de 29 Elements\n",
      "Ajout de 34 Elements\n",
      "Ajout de 49 Elements\n",
      "Ajout de 53 Elements\n",
      "Ajout de 130 Elements\n",
      "Ajout de 23 Elements\n",
      "Ajout de 182 Elements\n",
      "Ajout de 122 Elements\n",
      "Ajout de 116 Elements\n",
      "Ajout de 235 Elements\n",
      "Element total : 5240\n"
     ]
    }
   ],
   "source": [
    "ListeDF = CreateConcat()\n",
    "ListeDF = ListeDF.drop_duplicates(ignore_index=True)\n"
   ]
  },
  {
   "cell_type": "code",
   "execution_count": 162,
   "metadata": {},
   "outputs": [
    {
     "data": {
      "text/plain": [
       "0       spam\n",
       "1       spam\n",
       "2       spam\n",
       "3       spam\n",
       "4       spam\n",
       "        ... \n",
       "3930    spam\n",
       "3931    spam\n",
       "3932    spam\n",
       "3933    spam\n",
       "3934     ham\n",
       "Name: Etiquette, Length: 3935, dtype: object"
      ]
     },
     "execution_count": 162,
     "metadata": {},
     "output_type": "execute_result"
    }
   ],
   "source": [
    "ListeDF.to_csv(\"DataSmsSpamNH.csv\",index=False,sep=\"\\t\",header=None)\n"
   ]
  }
 ],
 "metadata": {
  "kernelspec": {
   "display_name": "Env",
   "language": "python",
   "name": "python3"
  },
  "language_info": {
   "codemirror_mode": {
    "name": "ipython",
    "version": 3
   },
   "file_extension": ".py",
   "mimetype": "text/x-python",
   "name": "python",
   "nbconvert_exporter": "python",
   "pygments_lexer": "ipython3",
   "version": "3.13.0"
  }
 },
 "nbformat": 4,
 "nbformat_minor": 2
}
