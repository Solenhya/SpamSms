{
 "cells": [
  {
   "cell_type": "code",
   "execution_count": 2,
   "metadata": {},
   "outputs": [],
   "source": [
    "from sklearn.model_selection import train_test_split\n",
    "from sklearn.metrics import classification_report\n",
    "import pandas as pd\n",
    "\n"
   ]
  },
  {
   "cell_type": "code",
   "execution_count": 11,
   "metadata": {},
   "outputs": [
    {
     "data": {
      "text/html": [
       "<div>\n",
       "<style scoped>\n",
       "    .dataframe tbody tr th:only-of-type {\n",
       "        vertical-align: middle;\n",
       "    }\n",
       "\n",
       "    .dataframe tbody tr th {\n",
       "        vertical-align: top;\n",
       "    }\n",
       "\n",
       "    .dataframe thead th {\n",
       "        text-align: right;\n",
       "    }\n",
       "</style>\n",
       "<table border=\"1\" class=\"dataframe\">\n",
       "  <thead>\n",
       "    <tr style=\"text-align: right;\">\n",
       "      <th></th>\n",
       "      <th>0</th>\n",
       "      <th>1</th>\n",
       "    </tr>\n",
       "  </thead>\n",
       "  <tbody>\n",
       "    <tr>\n",
       "      <th>0</th>\n",
       "      <td>1</td>\n",
       "      <td>2</td>\n",
       "    </tr>\n",
       "    <tr>\n",
       "      <th>1</th>\n",
       "      <td>3</td>\n",
       "      <td>4</td>\n",
       "    </tr>\n",
       "    <tr>\n",
       "      <th>2</th>\n",
       "      <td>5</td>\n",
       "      <td>6</td>\n",
       "    </tr>\n",
       "  </tbody>\n",
       "</table>\n",
       "</div>"
      ],
      "text/plain": [
       "   0  1\n",
       "0  1  2\n",
       "1  3  4\n",
       "2  5  6"
      ]
     },
     "execution_count": 11,
     "metadata": {},
     "output_type": "execute_result"
    }
   ],
   "source": [
    "testDF = pd.DataFrame([[\"1\",\"2\"],[\"3\",\"4\"]])\n",
    "testJoin = pd.DataFrame([[\"5\",\"6\"]])\n",
    "join = pd.concat([testDF,testJoin],ignore_index=True)\n",
    "join"
   ]
  },
  {
   "cell_type": "code",
   "execution_count": 7,
   "metadata": {},
   "outputs": [],
   "source": [
    "#df = pd.read_csv(\"./DataSetBrut/telegram_spam_dataset.csv\",header=None)\n",
    "#df.to_csv(\"./DataSetBrut/telegram_spam_dataset.csv\",sep=\"\\t\",index=False,header=None)"
   ]
  },
  {
   "cell_type": "code",
   "execution_count": null,
   "metadata": {},
   "outputs": [],
   "source": [
    "class ModelRepport:\n",
    "    def __init__(self):\n",
    "        self.__init__"
   ]
  },
  {
   "cell_type": "code",
   "execution_count": null,
   "metadata": {},
   "outputs": [],
   "source": [
    "def GenerateListModel():\n",
    "    retour = []\n",
    "    ##TODO\n",
    "    return retour"
   ]
  },
  {
   "cell_type": "code",
   "execution_count": null,
   "metadata": {},
   "outputs": [],
   "source": [
    "def Format(dataFrame:pd.DataFrame):\n",
    "    dataFrame[\"spam\"]=dataFrame[\"spam\"].apply(str.lower)\n",
    "    return dataFrame"
   ]
  },
  {
   "cell_type": "code",
   "execution_count": null,
   "metadata": {},
   "outputs": [],
   "source": [
    "randomState = 42\n",
    "firstDF = pd.read_csv(\"./DataSetBrut/BD1.txt\",sep=\"\\t\",header=None,names=[\"spam\",\"text\"])\n",
    "firstDF = Format(firstDF)\n",
    "X1 = firstDF[\"text\"]\n",
    "y1 = firstDF[\"spam\"]\n",
    "X1_train, X1_test, y1_train, y1_test = train_test_split(X1,y1 , test_size=0.2, random_state=randomState)\n",
    "\n",
    "secondDF = pd.read_csv(\"./DataSetBrut/DataSmsSpamNH.csv\",header=None,sep=\"\\t\",names=[\"spam\",\"text\"])\n",
    "secondDF = Format(secondDF)\n",
    "X2 = secondDF[\"text\"]\n",
    "y2 = secondDF[\"spam\"]\n",
    "X2_train, X2_test, y2_train, y2_test = train_test_split(X2,y2 , test_size=0.2, random_state=randomState)\n",
    "\n",
    "telegDF = pd.read_csv(\"./DataSetBrut/telegram_spam_dataset.csv\",names=[\"spam\",\"text\"])\n",
    "telegDF = Format(telegDF)\n",
    "Xtel = telegDF[\"text\"]\n",
    "ytel = telegDF[\"spam\"]\n"
   ]
  },
  {
   "cell_type": "code",
   "execution_count": 12,
   "metadata": {},
   "outputs": [],
   "source": [
    "class BDSpam:\n",
    "    def __init__(self,randomState,name,BDpath):\n",
    "        self.dataSet = pd.read_csv(BDpath,sep=\"\\t\",header=None,names=[\"spam\",\"text\"])\n",
    "        self.name =name\n",
    "        self.dataSet[\"\"]\n",
    "        X = self.dataSet[\"text\"]\n",
    "        y = self.dataSet[\"spam\"].apply(str.lower)\n",
    "        self.X_train, self.X_test, self.y_train, self.y_test = train_test_split(X,y , test_size=0.2, random_state=randomState)\n",
    "\n",
    "    def GetAll(self):\n",
    "        return self.X_train,self.X_test,self.y_train,self.y_test\n",
    "\n",
    "    def GetTest(self):\n",
    "        return self.X_test,self.y_test\n",
    "    \n",
    "    def GetTrain(self):\n",
    "        return self.X_train,self.y_train"
   ]
  },
  {
   "cell_type": "code",
   "execution_count": null,
   "metadata": {},
   "outputs": [],
   "source": [
    "dataSetAvailable = {\"first\":\"./DataSetBrut/BD1.txt\",\"nigerian\":\"./DataSetBrut/DataSmsSpamNH.csv\",\"telegram\":\"./DataSetBrut/telegram_spam_dataset.csv\"}"
   ]
  },
  {
   "cell_type": "code",
   "execution_count": null,
   "metadata": {},
   "outputs": [],
   "source": [
    "class DataSetManage():\n",
    "    dataSetSelect = {\"first\":\"./DataSetBrut/BD1.txt\",\"nigerian\":\"./DataSetBrut/DataSmsSpamNH.csv\",\"telegram\":\"./DataSetBrut/telegram_spam_dataset.csv\"}\n",
    "    randomState = 42\n",
    "    def __init__(self):\n",
    "        self.BD = {}\n",
    "        for name,path in self.dataSetSelect.item:\n",
    "            self.BD[name]= BDSpam(randomState=self.randomState,name=name,BDpath=path)\n",
    "\n",
    "    def GetTrain(self,name):\n",
    "        if name in self.BD.keys():\n",
    "            return self.BD[name]\n",
    "    \n",
    "    def GetCombinedTrain(self,keys):\n",
    "        TrainConcat = []\n",
    "        TargetConcat = []\n",
    "        for key in keys:\n",
    "            if key not in self.BD:\n",
    "                print(\"The key is not in the dataSet available\")\n",
    "            bd = self.BD[key]\n",
    "            xtrain , ytrain = bd.GetTrain()\n",
    "            TrainConcat.append(xtrain)\n",
    "            TargetConcat.append(ytrain)\n",
    "        TrainConcat = pd.concat(TrainConcat,ignore_index=True)\n",
    "        TargetConcat = pd.concat(TargetConcat,ignore_index=True)\n",
    "        return TrainConcat,TargetConcat\n",
    "\n",
    "    def GetTestDF(self):\n",
    "        retour = []\n",
    "        for bd in self.BD.values():\n",
    "            retour.append(bd.GetTest())\n",
    "        return retour"
   ]
  },
  {
   "cell_type": "code",
   "execution_count": null,
   "metadata": {},
   "outputs": [],
   "source": []
  }
 ],
 "metadata": {
  "kernelspec": {
   "display_name": "env",
   "language": "python",
   "name": "python3"
  },
  "language_info": {
   "codemirror_mode": {
    "name": "ipython",
    "version": 3
   },
   "file_extension": ".py",
   "mimetype": "text/x-python",
   "name": "python",
   "nbconvert_exporter": "python",
   "pygments_lexer": "ipython3",
   "version": "3.12.6"
  }
 },
 "nbformat": 4,
 "nbformat_minor": 2
}
