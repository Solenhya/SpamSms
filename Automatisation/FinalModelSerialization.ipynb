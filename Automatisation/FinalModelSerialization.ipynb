{
 "cells": [
  {
   "cell_type": "code",
   "execution_count": 7,
   "metadata": {},
   "outputs": [],
   "source": [
    "import DataSetManagement\n",
    "import EvaluateModelsFeatures\n",
    "import pandas as pd\n",
    "from sklearn.svm import SVC\n",
    "\n",
    "dataSet = {\"first\":\"../DataSetBrut/BD1.txt\",\"nigerian\":\"../DataSetBrut/DataSmsSpamNH.csv\",\"telegram\":\"../DataSetBrut/telegram_spam_dataset.csv\"}\n",
    "dataManag = DataSetManagement.DataSetManage(dataSet,42)"
   ]
  },
  {
   "cell_type": "code",
   "execution_count": null,
   "metadata": {},
   "outputs": [
    {
     "name": "stderr",
     "output_type": "stream",
     "text": [
      "c:\\Users\\melos\\Documents\\formation greta\\ML\\env\\Lib\\site-packages\\sklearn\\utils\\validation.py:1408: DataConversionWarning: A column-vector y was passed when a 1d array was expected. Please change the shape of y to (n_samples, ), for example using ravel().\n",
      "  y = column_or_1d(y, warn=True)\n"
     ]
    }
   ],
   "source": [
    "testBat = dataManag.GetAllTest()\n",
    "Xtrain,ytrain = dataManag.GetCombinedTrain([\"first\",\"nigerian\",\"telegram\"])\n",
    "from sklearn.svm import LinearSVC\n",
    "modelPipe = EvaluateModelsFeatures.GenerateModel(EvaluateModelsFeatures.get_dictionnaire(['presence_monnaie', 'presence_caratere_speciaux', 'presence_lien']), model=SVC(kernel='linear',probability=True),X_train=Xtrain,y_train=ytrain)"
   ]
  },
  {
   "cell_type": "code",
   "execution_count": 4,
   "metadata": {},
   "outputs": [
    {
     "data": {
      "text/plain": [
       "array(['ham'], dtype=object)"
      ]
     },
     "execution_count": 4,
     "metadata": {},
     "output_type": "execute_result"
    }
   ],
   "source": [
    "modelPipe.predict(X=pd.DataFrame([\"Ceci est un test\"], columns=[\"text\"]))"
   ]
  }
 ],
 "metadata": {
  "kernelspec": {
   "display_name": "env",
   "language": "python",
   "name": "python3"
  },
  "language_info": {
   "codemirror_mode": {
    "name": "ipython",
    "version": 3
   },
   "file_extension": ".py",
   "mimetype": "text/x-python",
   "name": "python",
   "nbconvert_exporter": "python",
   "pygments_lexer": "ipython3",
   "version": "3.12.6"
  }
 },
 "nbformat": 4,
 "nbformat_minor": 2
}
